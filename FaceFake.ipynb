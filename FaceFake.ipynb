{
  "nbformat": 4,
  "nbformat_minor": 0,
  "metadata": {
    "colab": {
      "provenance": []
    },
    "kernelspec": {
      "display_name": "Python 3",
      "name": "python3"
    },
    "language_info": {
      "name": "python"
    }
  },
  "cells": [
    {
      "cell_type": "code",
      "metadata": {
        "id": "so0QEB3toydA"
      },
      "source": [
        "from imutils import face_utils"
      ],
      "execution_count": null,
      "outputs": []
    },
    {
      "cell_type": "code",
      "metadata": {
        "colab": {
          "base_uri": "https://localhost:8080/"
        },
        "id": "71JK_4wixxqg",
        "outputId": "a2701244-1935-4ac1-95b3-ea2ec1886cc0"
      },
      "source": [
        "from google.colab import drive\n",
        "drive.mount('/content/drive')"
      ],
      "execution_count": null,
      "outputs": [
        {
          "output_type": "stream",
          "name": "stdout",
          "text": [
            "Drive already mounted at /content/drive; to attempt to forcibly remount, call drive.mount(\"/content/drive\", force_remount=True).\n"
          ]
        }
      ]
    },
    {
      "cell_type": "code",
      "metadata": {
        "id": "kdRgz9RVo9nM"
      },
      "source": [
        "import datetime\n",
        "import imutils\n",
        "import time\n",
        "import dlib\n",
        "import cv2, math\n",
        "import numpy as np\n",
        "from imutils import face_utils, rotate_bound"
      ],
      "execution_count": null,
      "outputs": []
    },
    {
      "cell_type": "code",
      "metadata": {
        "id": "d2NBFFcopKrn"
      },
      "source": [
        "model = \"/content/drive/MyDrive/創建資料夾名稱/shape_predictor_68_face_landmarks.dat\""
      ],
      "execution_count": null,
      "outputs": []
    },
    {
      "cell_type": "code",
      "metadata": {
        "id": "fxBdVzAJ0UnD"
      },
      "source": [
        "predictor = dlib.shape_predictor(model)\n",
        "detector = dlib.get_frontal_face_detector()"
      ],
      "execution_count": null,
      "outputs": []
    },
    {
      "cell_type": "code",
      "metadata": {
        "id": "ll_lAKa401OY"
      },
      "source": [
        "class TooManyFaces(Exception):\n",
        "    pass\n",
        "\n",
        "class NoFaces(Exception):\n",
        "    pass"
      ],
      "execution_count": null,
      "outputs": []
    },
    {
      "cell_type": "code",
      "metadata": {
        "id": "X1Uj7Oae1h2n"
      },
      "source": [
        "def get_landmarks(im):\n",
        "    rects = detector(im, 1)\n",
        "\n",
        "    if len(rects) > 1:\n",
        "        raise TooManyFaces\n",
        "    if len(rects) == 0:\n",
        "        raise NoFaces\n",
        "\n",
        "    return np.matrix([[p.x, p.y] for p in predictor(im, rects[0]).parts()])"
      ],
      "execution_count": null,
      "outputs": []
    },
    {
      "cell_type": "code",
      "metadata": {
        "id": "ShYJlyhD1twV"
      },
      "source": [
        "def annotate_landmarks(im, landmarks):\n",
        "    im = im.copy()\n",
        "    for idx, point in enumerate(landmarks):\n",
        "        pos = (point[0, 0], point[0, 1])\n",
        "        cv2.putText(im, str(idx), pos,\n",
        "                    fontFace=cv2.FONT_HERSHEY_SCRIPT_SIMPLEX,\n",
        "                    fontScale=0.4,\n",
        "                    \n",
        "                    color=(0, 0, 255))\n",
        "        cv2.circle(im, pos, 3, color=(0, 255, 255))\n",
        "    return im"
      ],
      "execution_count": null,
      "outputs": []
    },
    {
      "cell_type": "code",
      "metadata": {
        "colab": {
          "base_uri": "https://localhost:8080/",
          "height": 237
        },
        "id": "vUv_qiGE8F1G",
        "outputId": "ee22ddcb-5a12-4711-d19e-6d6fe39ff5ee"
      },
      "source": [
        "image1 = cv2.imread('/content/drive/MyDrive/創建資料夾名稱/im1.jpg')  #change\n",
        "landmarks = get_landmarks(image1)\n",
        "image_with_landmarks = annotate_landmarks(image1, landmarks)\n",
        "\n",
        "from google.colab.patches import cv2_imshow\n",
        "cv2_imshow(image_with_landmarks)"
      ],
      "execution_count": 2,
      "outputs": [
        {
          "output_type": "error",
          "ename": "NameError",
          "evalue": "ignored",
          "traceback": [
            "\u001b[0;31m---------------------------------------------------------------------------\u001b[0m",
            "\u001b[0;31mNameError\u001b[0m                                 Traceback (most recent call last)",
            "\u001b[0;32m<ipython-input-2-fe097b557229>\u001b[0m in \u001b[0;36m<module>\u001b[0;34m\u001b[0m\n\u001b[0;32m----> 1\u001b[0;31m \u001b[0mimage1\u001b[0m \u001b[0;34m=\u001b[0m \u001b[0mcv2\u001b[0m\u001b[0;34m.\u001b[0m\u001b[0mimread\u001b[0m\u001b[0;34m(\u001b[0m\u001b[0;34m'/content/drive/MyDrive/創建資料夾名稱/im1.jpg'\u001b[0m\u001b[0;34m)\u001b[0m  \u001b[0;31m#change\u001b[0m\u001b[0;34m\u001b[0m\u001b[0;34m\u001b[0m\u001b[0m\n\u001b[0m\u001b[1;32m      2\u001b[0m \u001b[0mlandmarks\u001b[0m \u001b[0;34m=\u001b[0m \u001b[0mget_landmarks\u001b[0m\u001b[0;34m(\u001b[0m\u001b[0mimage1\u001b[0m\u001b[0;34m)\u001b[0m\u001b[0;34m\u001b[0m\u001b[0;34m\u001b[0m\u001b[0m\n\u001b[1;32m      3\u001b[0m \u001b[0mimage_with_landmarks\u001b[0m \u001b[0;34m=\u001b[0m \u001b[0mannotate_landmarks\u001b[0m\u001b[0;34m(\u001b[0m\u001b[0mimage1\u001b[0m\u001b[0;34m,\u001b[0m \u001b[0mlandmarks\u001b[0m\u001b[0;34m)\u001b[0m\u001b[0;34m\u001b[0m\u001b[0;34m\u001b[0m\u001b[0m\n\u001b[1;32m      4\u001b[0m \u001b[0;34m\u001b[0m\u001b[0m\n\u001b[1;32m      5\u001b[0m \u001b[0;32mfrom\u001b[0m \u001b[0mgoogle\u001b[0m\u001b[0;34m.\u001b[0m\u001b[0mcolab\u001b[0m\u001b[0;34m.\u001b[0m\u001b[0mpatches\u001b[0m \u001b[0;32mimport\u001b[0m \u001b[0mcv2_imshow\u001b[0m\u001b[0;34m\u001b[0m\u001b[0;34m\u001b[0m\u001b[0m\n",
            "\u001b[0;31mNameError\u001b[0m: name 'cv2' is not defined"
          ]
        }
      ]
    },
    {
      "cell_type": "code",
      "metadata": {
        "colab": {
          "base_uri": "https://localhost:8080/",
          "height": 1000
        },
        "id": "Q58nvze5DujK",
        "outputId": "9ec43e79-c2bd-4409-a8fa-72fa4c3ac714"
      },
      "source": [
        "image2 = cv2.imread('/content/drive/MyDrive/創建資料夾名稱/im2.jpg')  #change\n",
        "landmarks2 = get_landmarks(image2)\n",
        "image_with_landmarks2 = annotate_landmarks(image2, landmarks)\n",
        "\n",
        "from google.colab.patches import cv2_imshow\n",
        "cv2_imshow(image_with_landmarks2)"
      ],
      "execution_count": null,
      "outputs": []
    },
    {
      "cell_type": "code",
      "source": [],
      "metadata": {
        "id": "IgnYXo1Z8lal"
      },
      "execution_count": null,
      "outputs": []
    },
    {
      "cell_type": "code",
      "metadata": {
        "id": "x3vWk_Cv8F2K"
      },
      "source": [
        "SCALE_FACTOR = 1 \n",
        "FEATHER_AMOUNT = 11\n",
        "\n",
        "FACE_POINTS = list(range(17, 68))\n",
        "MOUTH_POINTS = list(range(48, 61))\n",
        "RIGHT_BROW_POINTS = list(range(17, 22))\n",
        "LEFT_BROW_POINTS = list(range(22, 27))\n",
        "RIGHT_EYE_POINTS = list(range(36, 42))\n",
        "LEFT_EYE_POINTS = list(range(42, 48))\n",
        "NOSE_POINTS = list(range(27, 35))\n",
        "JAW_POINTS = list(range(0, 17))"
      ],
      "execution_count": null,
      "outputs": []
    },
    {
      "cell_type": "code",
      "metadata": {
        "id": "8zAxWFtE-HPs"
      },
      "source": [
        "# Points used to line up the images.\n",
        "ALIGN_POINTS = (LEFT_BROW_POINTS + RIGHT_EYE_POINTS + LEFT_EYE_POINTS +\n",
        "                               RIGHT_BROW_POINTS + NOSE_POINTS + MOUTH_POINTS)\n",
        "\n",
        "# Points from the second image to overlay on the first. The convex hull of each\n",
        "# element will be overlaid.\n",
        "OVERLAY_POINTS = [\n",
        "    LEFT_EYE_POINTS + RIGHT_EYE_POINTS + LEFT_BROW_POINTS + RIGHT_BROW_POINTS + NOSE_POINTS + MOUTH_POINTS,\n",
        "]"
      ],
      "execution_count": null,
      "outputs": []
    },
    {
      "cell_type": "code",
      "metadata": {
        "id": "XXY3Ih1c-Skl"
      },
      "source": [
        "# Amount of blur to use during colour correction, as a fraction of the\n",
        "# pupillary distance.\n",
        "COLOUR_CORRECT_BLUR_FRAC = 0.8"
      ],
      "execution_count": null,
      "outputs": []
    },
    {
      "cell_type": "code",
      "metadata": {
        "id": "Vof4DWXJ_MHj"
      },
      "source": [
        "\n",
        "def draw_convex_hull(im, points, color):\n",
        "    points = cv2.convexHull(points)\n",
        "    cv2.fillConvexPoly(im, points, color=color)\n",
        "\n",
        "def get_face_mask(im, landmarks):\n",
        "    im = numpy.zeros(im.shape[:2], dtype=numpy.float64)\n",
        "\n",
        "    for group in OVERLAY_POINTS:\n",
        "        draw_convex_hull(im,\n",
        "                         landmarks[group],\n",
        "                         color=1)\n",
        "\n",
        "    im = numpy.array([im, im, im]).transpose((1, 2, 0))\n",
        "\n",
        "    im = (cv2.GaussianBlur(im, (FEATHER_AMOUNT, FEATHER_AMOUNT), 0) > 0) * 1.0\n",
        "    im = cv2.GaussianBlur(im, (FEATHER_AMOUNT, FEATHER_AMOUNT), 0)\n",
        "\n",
        "    return im\n",
        "\n",
        "def transformation_from_points(points1, points2):\n",
        "    \"\"\"\n",
        "    Return an affine transformation [s * R | T] such that:\n",
        "        sum ||s*R*p1,i + T - p2,i||^2\n",
        "    is minimized.\n",
        "    \"\"\"\n",
        "    # Solve the procrustes problem by subtracting centroids, scaling by the\n",
        "    # standard deviation, and then using the SVD to calculate the rotation. See\n",
        "    # the following for more details:\n",
        "    #   https://en.wikipedia.org/wiki/Orthogonal_Procrustes_problem\n",
        "\n",
        "    points1 = points1.astype(numpy.float64)\n",
        "    points2 = points2.astype(numpy.float64)\n",
        "\n",
        "    c1 = numpy.mean(points1, axis=0)\n",
        "    c2 = numpy.mean(points2, axis=0)\n",
        "    points1 -= c1\n",
        "    points2 -= c2\n",
        "\n",
        "    s1 = numpy.std(points1)\n",
        "    s2 = numpy.std(points2)\n",
        "    points1 /= s1\n",
        "    points2 /= s2\n",
        "\n",
        "    U, S, Vt = numpy.linalg.svd(points1.T * points2)\n",
        "\n",
        "    # The R we seek is in fact the transpose of the one given by U * Vt. This\n",
        "    # is because the above formulation assumes the matrix goes on the right\n",
        "    # (with row vectors) where as our solution requires the matrix to be on the\n",
        "    # left (with column vectors).\n",
        "    R = (U * Vt).T\n",
        "\n",
        "    return numpy.vstack([numpy.hstack(((s2 / s1) * R,\n",
        "                                       c2.T - (s2 / s1) * R * c1.T)),\n",
        "                         numpy.matrix([0., 0., 1.])])\n",
        "\n",
        "def read_im_and_landmarks(image):\n",
        "    im = image\n",
        "    #im = cv2.resize(im,None,fx=1, fy=1, interpolation = cv2.INTER_LINEAR)\n",
        "    im = cv2.resize(im, (im.shape[1] * SCALE_FACTOR,\n",
        "                         im.shape[0] * SCALE_FACTOR))\n",
        "    s = get_landmarks(im)\n",
        "\n",
        "    return im, s\n",
        "\n",
        "def warp_im(im, M, dshape):\n",
        "    output_im = numpy.zeros(dshape, dtype=im.dtype)\n",
        "    cv2.warpAffine(im,\n",
        "                   M[:2],\n",
        "                   (dshape[1], dshape[0]),\n",
        "                   dst=output_im,\n",
        "                   borderMode=cv2.BORDER_TRANSPARENT,\n",
        "                   flags=cv2.WARP_INVERSE_MAP)\n",
        "    return output_im\n",
        "\n",
        "def correct_colours(im1, im2, landmarks1):\n",
        "    blur_amount = COLOUR_CORRECT_BLUR_FRAC * numpy.linalg.norm(\n",
        "                              numpy.mean(landmarks1[LEFT_EYE_POINTS], axis=0) -\n",
        "                              numpy.mean(landmarks1[RIGHT_EYE_POINTS], axis=0))\n",
        "    blur_amount = int(blur_amount)\n",
        "    if blur_amount % 2 == 0:\n",
        "        blur_amount += 1\n",
        "    im1_blur = cv2.GaussianBlur(im1, (blur_amount, blur_amount), 0)\n",
        "    im2_blur = cv2.GaussianBlur(im2, (blur_amount, blur_amount), 0)\n",
        "\n",
        "    # Avoid divide-by-zero errors.\n",
        "    im2_blur += (128 * (im2_blur <= 1.0)).astype(im2_blur.dtype)\n",
        "\n",
        "    return (im2.astype(numpy.float64) * im1_blur.astype(numpy.float64) /\n",
        "                                                im2_blur.astype(numpy.float64))\n",
        "\n",
        "def swappy(image1, image2):\n",
        "       \n",
        "    im1, landmarks1 = read_im_and_landmarks(image1)\n",
        "    im2, landmarks2 = read_im_and_landmarks(image2)\n",
        "\n",
        "    M = transformation_from_points(landmarks1[ALIGN_POINTS],\n",
        "                                   landmarks2[ALIGN_POINTS])\n",
        "    \n",
        "    mask = get_face_mask(im2, landmarks2)\n",
        "    warped_mask = warp_im(mask, M, im1.shape)\n",
        "    combined_mask = numpy.max([get_face_mask(im1, landmarks1), warped_mask],\n",
        "                              axis=0)\n",
        "\n",
        "    warped_im2 = warp_im(im2, M, im1.shape)\n",
        "    warped_corrected_im2 = correct_colours(im1, warped_im2, landmarks1)\n",
        "\n",
        "    output_im = im1 * (1.0 - combined_mask) + warped_corrected_im2 * combined_mask\n",
        "    cv2.imwrite('output.jpg', output_im)\n",
        "    image = cv2.imread('output.jpg')\n",
        "    return image"
      ],
      "execution_count": null,
      "outputs": []
    },
    {
      "cell_type": "code",
      "metadata": {
        "id": "ndEUY6rM_U68"
      },
      "source": [
        "import numpy"
      ],
      "execution_count": null,
      "outputs": []
    },
    {
      "cell_type": "code",
      "metadata": {
        "colab": {
          "base_uri": "https://localhost:8080/",
          "height": 237
        },
        "id": "NP4pzt-U_mf0",
        "outputId": "edfd2f70-014e-4b8a-8ab8-366956f4a935"
      },
      "source": [
        "image1 = cv2.imread('/content/drive/MyDrive/創建資料夾名稱/im1.jpg')\n",
        "\n",
        "image2 = cv2.imread('/content/drive/MyDrive/創建資料夾名稱/im2.jpg')\n",
        "\n",
        "swapped = swappy(image2, image1)\n",
        "cv2_imshow(swapped)"
      ],
      "execution_count": 1,
      "outputs": [
        {
          "output_type": "error",
          "ename": "NameError",
          "evalue": "ignored",
          "traceback": [
            "\u001b[0;31m---------------------------------------------------------------------------\u001b[0m",
            "\u001b[0;31mNameError\u001b[0m                                 Traceback (most recent call last)",
            "\u001b[0;32m<ipython-input-1-54bc3a4249e9>\u001b[0m in \u001b[0;36m<module>\u001b[0;34m\u001b[0m\n\u001b[0;32m----> 1\u001b[0;31m \u001b[0mimage1\u001b[0m \u001b[0;34m=\u001b[0m \u001b[0mcv2\u001b[0m\u001b[0;34m.\u001b[0m\u001b[0mimread\u001b[0m\u001b[0;34m(\u001b[0m\u001b[0;34m'/content/drive/MyDrive/cs11024154/im1.jpg'\u001b[0m\u001b[0;34m)\u001b[0m\u001b[0;34m\u001b[0m\u001b[0;34m\u001b[0m\u001b[0m\n\u001b[0m\u001b[1;32m      2\u001b[0m \u001b[0;34m\u001b[0m\u001b[0m\n\u001b[1;32m      3\u001b[0m \u001b[0mimage2\u001b[0m \u001b[0;34m=\u001b[0m \u001b[0mcv2\u001b[0m\u001b[0;34m.\u001b[0m\u001b[0mimread\u001b[0m\u001b[0;34m(\u001b[0m\u001b[0;34m'/content/drive/MyDrive/cs11024154/im2.jpg'\u001b[0m\u001b[0;34m)\u001b[0m\u001b[0;34m\u001b[0m\u001b[0;34m\u001b[0m\u001b[0m\n\u001b[1;32m      4\u001b[0m \u001b[0;34m\u001b[0m\u001b[0m\n\u001b[1;32m      5\u001b[0m \u001b[0mswapped\u001b[0m \u001b[0;34m=\u001b[0m \u001b[0mswappy\u001b[0m\u001b[0;34m(\u001b[0m\u001b[0mimage2\u001b[0m\u001b[0;34m,\u001b[0m \u001b[0mimage1\u001b[0m\u001b[0;34m)\u001b[0m\u001b[0;34m\u001b[0m\u001b[0;34m\u001b[0m\u001b[0m\n",
            "\u001b[0;31mNameError\u001b[0m: name 'cv2' is not defined"
          ]
        }
      ]
    }
  ]
}